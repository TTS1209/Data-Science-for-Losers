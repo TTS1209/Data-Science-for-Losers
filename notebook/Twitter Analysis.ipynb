{
 "cells": [
  {
   "cell_type": "code",
   "execution_count": null,
   "metadata": {
    "collapsed": false
   },
   "outputs": [],
   "source": [
    "%matplotlib inline\n",
    "import seaborn as sns\n",
    "import pandas as pd\n",
    "import numpy as np\n",
    "import matplotlib.pyplot as plt\n"
   ]
  },
  {
   "cell_type": "code",
   "execution_count": null,
   "metadata": {
    "collapsed": false
   },
   "outputs": [],
   "source": [
    "tweets1 = pd.read_csv('./data/your_twitter_activity_metrics_1.csv')\n",
    "tweets2 = pd.read_csv('./data/your_twitter_activity_metrics_2.csv')\n",
    "tweets3 = pd.read_csv('./data/your_twitter_activity_metrics_3.csv')\n",
    "tweets4 = pd.read_csv('./data/your_twitter_activity_metrics_4.csv')\n",
    "\n"
   ]
  },
  {
   "cell_type": "code",
   "execution_count": null,
   "metadata": {
    "collapsed": false
   },
   "outputs": [],
   "source": [
    "tweets1"
   ]
  },
  {
   "cell_type": "code",
   "execution_count": null,
   "metadata": {
    "collapsed": false
   },
   "outputs": [],
   "source": [
    "tweets = tweets1.append(tweets2, verify_integrity=True, ignore_index=True)\n",
    "tweets = tweets.append(tweets3, verify_integrity=True, ignore_index=True)\n",
    "tweets = tweets.append(tweets4, verify_integrity=True, ignore_index=True)\n",
    "tweets.to_csv('./data/export.csv')"
   ]
  },
  {
   "cell_type": "code",
   "execution_count": null,
   "metadata": {
    "collapsed": false
   },
   "outputs": [],
   "source": [
    "filtered = tweets[['time','impressions','engagements','engagement rate',\n",
    "                   'retweets','replies','favorites','user profile clicks',\n",
    "                   'hashtag clicks','url clicks','detail expands','permalink clicks']]"
   ]
  },
  {
   "cell_type": "code",
   "execution_count": null,
   "metadata": {
    "collapsed": false
   },
   "outputs": [],
   "source": [
    "filtered.loc[:,'time'] = [tm.replace(' +0000','Z') for tm in filtered['time']]\n",
    "filtered.loc[:,'time'] = filtered['time'].astype('datetime64[ns]')"
   ]
  },
  {
   "cell_type": "code",
   "execution_count": null,
   "metadata": {
    "collapsed": false
   },
   "outputs": [],
   "source": [
    "successful = filtered[filtered['retweets'] >= 3]"
   ]
  },
  {
   "cell_type": "code",
   "execution_count": null,
   "metadata": {
    "collapsed": false
   },
   "outputs": [],
   "source": [
    "successful.loc[:,['time','retweets']]"
   ]
  },
  {
   "cell_type": "code",
   "execution_count": null,
   "metadata": {
    "collapsed": false
   },
   "outputs": [],
   "source": [
    "figure(num=None, figsize=(15, 5), dpi=80, facecolor='w', edgecolor='k')\n",
    "\n",
    "time = successful['time']\n",
    "retweets = successful['retweets']\n",
    "\n",
    "p = plot(time, retweets, color='green', linestyle='dashed', marker='o',\n",
    "         markerfacecolor='red', markersize=4)\n",
    "ax = gca()\n",
    "xt = ax.set_xlabel('Time')\n",
    "yt = ax.set_ylabel('Retweets')"
   ]
  },
  {
   "cell_type": "code",
   "execution_count": null,
   "metadata": {
    "collapsed": true
   },
   "outputs": [],
   "source": []
  }
 ],
 "metadata": {
  "kernelspec": {
   "display_name": "Python 2",
   "language": "python",
   "name": "python2"
  },
  "language_info": {
   "codemirror_mode": {
    "name": "ipython",
    "version": 2
   },
   "file_extension": ".py",
   "mimetype": "text/x-python",
   "name": "python",
   "nbconvert_exporter": "python",
   "pygments_lexer": "ipython2",
   "version": "2.7.10"
  }
 },
 "nbformat": 4,
 "nbformat_minor": 0
}
